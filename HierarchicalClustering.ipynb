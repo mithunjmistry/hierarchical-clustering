{
 "cells": [
  {
   "cell_type": "markdown",
   "metadata": {},
   "source": [
    "# Import Necessary modules"
   ]
  },
  {
   "cell_type": "code",
   "execution_count": 1,
   "metadata": {
    "collapsed": true
   },
   "outputs": [],
   "source": [
    "import numpy as np\n",
    "import pandas as pd\n",
    "from sklearn.metrics.pairwise import euclidean_distances #We can calculate this matrix using 2 for loops, \n",
    "#but this isn't that important to calculate so we directly use this\n",
    "import matplotlib.pyplot as plt"
   ]
  },
  {
   "cell_type": "code",
   "execution_count": 2,
   "metadata": {
    "collapsed": true
   },
   "outputs": [],
   "source": [
    "%matplotlib inline"
   ]
  },
  {
   "cell_type": "markdown",
   "metadata": {},
   "source": [
    "## Here is the function for Hierarchical clustering"
   ]
  },
  {
   "cell_type": "code",
   "execution_count": 4,
   "metadata": {
    "collapsed": true
   },
   "outputs": [],
   "source": [
    "def OwnHeirarchical(data, cutoff, linkage):\n",
    "    #This is done using dynamic programming approach\n",
    "    # if 1, it is single linkage else 2 is complete linkage, 3 is average linkage\n",
    "    distance_matrix = euclidean_distances(data, data) #Step 1 - Calculate distance matrix\n",
    "    distance_matrix = np.tril(distance_matrix) #Step 2 - Since matrix is symmetric, we just keep lower triangle matrix\n",
    "    distance_matrix[distance_matrix == 0] = np.inf #Step 3 - Replace 0 by inf, it makes it easy for us to extract minimum using min function\n",
    "    df = pd.DataFrame(data=np.ones(data.shape[0])*np.inf) #Initialized a dataframe which will store which point is in which cluster\n",
    "    if cutoff > distance_matrix.shape[0]: #If user provides impractical cut-off, cluster everthing into one cluster and not listen to user \n",
    "        cutoff = distance_matrix.shape[0]\n",
    "    if linkage == 1: #This 1 means formula of single linkage will be used, it is explained ahead\n",
    "        d = {} #This dictionary keeps record of which data points or cluster are merging, hence can be used to make a dendogram\n",
    "        for i in range(0,cutoff):\n",
    "            ij_min = np.unravel_index(distance_matrix.argmin(), distance_matrix.shape) #from the distance matrix, get the minimum distance\n",
    "            #np.unravel_index gives us the position of minimum distance. e.g. (0,4) is where minimum value is present in matrix.\n",
    "            #This is what we need as in Hierarchical clustering, we merge the two pairs with minimum distance\n",
    "            if i == 0:\n",
    "                df.iloc[ij_min[0]] = 0\n",
    "                df.iloc[ij_min[1]] = 0\n",
    "            else:\n",
    "                try:\n",
    "                    a = int(df.iloc[ij_min[0]])\n",
    "                except:\n",
    "                    df.iloc[ij_min[0]] = i\n",
    "                    a = i\n",
    "                try:\n",
    "                    b = int(df.iloc[ij_min[1]])\n",
    "                except:\n",
    "                    df.iloc[ij_min[1]] = i\n",
    "                    b = i\n",
    "                df[(df[0]==a) | (df[0]==b)] = i\n",
    "            d[i] = ij_min\n",
    "            #The if, else code till here is just filling the dataframe as the two points/clusters combine.\n",
    "            #So, for example if 1 and 2 combines, dataframe will have 1 : 0, 2 : 0. Which means point 1 and 2 both are in same cluster (0th cluster)\n",
    "            for j in range(0, ij_min[0]):\n",
    "                #we want to ignore the diagonal, and diagonal is 0. We replaced 0 by infinte. \n",
    "                #So this if condition will skip diagonals\n",
    "                if np.isfinite(distance_matrix[ij_min[0]][j]) and np.isfinite(distance_matrix[ij_min[1]][j]):\n",
    "                    #after two points/cluster are linked, to calculate new distance we take minimum distance for single linkage\n",
    "                    distance_matrix[ij_min[1]][j] = min(distance_matrix[ij_min[0]][j], distance_matrix[ij_min[1]][j])\n",
    "            # To avoid the combined data points/cluster in further calculations, we make them infinte.\n",
    "            #Our if loop above this, will therefore skip the infinite record entries.\n",
    "            distance_matrix[ij_min[0]] = np.inf\n",
    "        return d, df[0].as_matrix()\n",
    "    elif linkage == 2:\n",
    "        d_complete = {}\n",
    "        for i in range(0,cutoff):\n",
    "            ij_min = np.unravel_index(distance_matrix.argmin(), distance_matrix.shape)\n",
    "            if i == 0:\n",
    "                df.iloc[ij_min[0]] = 0\n",
    "                df.iloc[ij_min[1]] = 0\n",
    "            else:\n",
    "                try:\n",
    "                    a = int(df.iloc[ij_min[0]])\n",
    "                except:\n",
    "                    df.iloc[ij_min[0]] = i\n",
    "                    a = i\n",
    "                try:\n",
    "                    b = int(df.iloc[ij_min[1]])\n",
    "                except:\n",
    "                    df.iloc[ij_min[1]] = i\n",
    "                    b = i\n",
    "                df[(df[0]==a) | (df[0]==b)] = i\n",
    "            d_complete[i] = ij_min\n",
    "            for j in range(0, ij_min[0]):\n",
    "                if np.isfinite(distance_matrix[ij_min[0]][j]) and np.isfinite(distance_matrix[ij_min[1]][j]):\n",
    "                    #after two points/cluster are linked, to calculate new distance we take maximum distance for complete linkage\n",
    "                    distance_matrix[ij_min[1]][j] = max(distance_matrix[ij_min[0]][j], distance_matrix[ij_min[1]][j])\n",
    "            distance_matrix[ij_min[0]] = np.inf\n",
    "        return d_complete, df[0].as_matrix()\n",
    "    elif linkage == 3:\n",
    "        d_average = {}\n",
    "        for i in range(0,cutoff):\n",
    "            ij_min = np.unravel_index(distance_matrix.argmin(), distance_matrix.shape)\n",
    "            if i == 0:\n",
    "                df.iloc[ij_min[0]] = 0\n",
    "                df.iloc[ij_min[1]] = 0\n",
    "            else:\n",
    "                try:\n",
    "                    a = int(df.iloc[ij_min[0]])\n",
    "                except:\n",
    "                    df.iloc[ij_min[0]] = i\n",
    "                    a = i\n",
    "                try:\n",
    "                    b = int(df.iloc[ij_min[1]])\n",
    "                except:\n",
    "                    df.iloc[ij_min[1]] = i\n",
    "                    b = i\n",
    "                df[(df[0]==a) | (df[0]==b)] = i\n",
    "            d_average[i] = ij_min\n",
    "            for j in range(0, ij_min[0]):\n",
    "                if np.isfinite(distance_matrix[ij_min[0]][j]) and np.isfinite(distance_matrix[ij_min[1]][j]):\n",
    "                    #after two points/cluster are linked, to calculate new distance we take average distance for average linkage\n",
    "                    distance_matrix[ij_min[1]][j] = (distance_matrix[ij_min[0]][j] + distance_matrix[ij_min[1]][j])/2.0          \n",
    "            distance_matrix[ij_min[0]] = np.inf\n",
    "        return d_average, df[0].as_matrix()"
   ]
  },
  {
   "cell_type": "markdown",
   "metadata": {},
   "source": [
    "## Test our function on Iris dataset"
   ]
  },
  {
   "cell_type": "code",
   "execution_count": 11,
   "metadata": {},
   "outputs": [],
   "source": [
    "from sklearn import datasets\n",
    "iris = datasets.load_iris()\n",
    "iris_data = iris.data\n",
    "d, target = OwnHeirarchical(iris_data, 147, 1) #147 iterations is cut-off which will give us 3 clusters, 1 is single linkage"
   ]
  },
  {
   "cell_type": "code",
   "execution_count": 12,
   "metadata": {},
   "outputs": [
    {
     "data": {
      "text/plain": [
       "{0: (34, 9),\n",
       " 1: (37, 9),\n",
       " 2: (39, 7),\n",
       " 3: (132, 128),\n",
       " 4: (17, 0),\n",
       " 5: (48, 10),\n",
       " 6: (28, 27),\n",
       " 7: (4, 0),\n",
       " 8: (27, 0),\n",
       " 9: (40, 17),\n",
       " 10: (49, 7),\n",
       " 11: (81, 80),\n",
       " 12: (91, 63),\n",
       " 13: (92, 82),\n",
       " 14: (96, 95),\n",
       " 15: (7, 0),\n",
       " 16: (12, 1),\n",
       " 17: (21, 19),\n",
       " 18: (38, 8),\n",
       " 19: (46, 19),\n",
       " 20: (47, 2),\n",
       " 21: (30, 29),\n",
       " 22: (45, 1),\n",
       " 23: (93, 57),\n",
       " 24: (99, 96),\n",
       " 25: (137, 116),\n",
       " 26: (75, 65),\n",
       " 27: (138, 127),\n",
       " 28: (80, 69),\n",
       " 29: (9, 1),\n",
       " 30: (29, 9),\n",
       " 31: (95, 88),\n",
       " 32: (126, 123),\n",
       " 33: (139, 112),\n",
       " 34: (26, 23),\n",
       " 35: (42, 38),\n",
       " 36: (89, 53),\n",
       " 37: (25, 9),\n",
       " 38: (84, 66),\n",
       " 39: (97, 74),\n",
       " 40: (143, 120),\n",
       " 41: (11, 7),\n",
       " 42: (23, 7),\n",
       " 43: (43, 26),\n",
       " 44: (147, 110),\n",
       " 45: (73, 63),\n",
       " 46: (127, 70),\n",
       " 47: (82, 67),\n",
       " 48: (3, 2),\n",
       " 49: (19, 17),\n",
       " 50: (58, 54),\n",
       " 51: (65, 58),\n",
       " 52: (116, 103),\n",
       " 53: (145, 141),\n",
       " 54: (146, 123),\n",
       " 55: (78, 63),\n",
       " 56: (148, 136),\n",
       " 57: (144, 140),\n",
       " 58: (6, 2),\n",
       " 59: (87, 68),\n",
       " 60: (94, 90),\n",
       " 61: (122, 105),\n",
       " 62: (130, 107),\n",
       " 63: (52, 50),\n",
       " 64: (56, 51),\n",
       " 65: (113, 101),\n",
       " 66: (140, 120),\n",
       " 67: (142, 113),\n",
       " 68: (31, 20),\n",
       " 69: (86, 52),\n",
       " 70: (149, 127),\n",
       " 71: (36, 10),\n",
       " 72: (88, 61),\n",
       " 73: (124, 120),\n",
       " 74: (128, 104),\n",
       " 75: (66, 55),\n",
       " 76: (2, 1),\n",
       " 77: (10, 0),\n",
       " 78: (24, 11),\n",
       " 79: (35, 1),\n",
       " 80: (69, 53),\n",
       " 81: (136, 115),\n",
       " 82: (8, 3),\n",
       " 83: (90, 89),\n",
       " 84: (121, 101),\n",
       " 85: (61, 55),\n",
       " 86: (76, 58),\n",
       " 87: (77, 52),\n",
       " 88: (104, 103),\n",
       " 89: (18, 5),\n",
       " 90: (63, 61),\n",
       " 91: (74, 71),\n",
       " 92: (133, 83),\n",
       " 93: (16, 10),\n",
       " 94: (33, 32),\n",
       " 95: (120, 112),\n",
       " 96: (13, 8),\n",
       " 97: (129, 125),\n",
       " 98: (20, 17),\n",
       " 99: (32, 15),\n",
       " 100: (101, 83),\n",
       " 101: (123, 72),\n",
       " 102: (83, 72),\n",
       " 103: (112, 104),\n",
       " 104: (71, 58),\n",
       " 105: (141, 139),\n",
       " 106: (1, 0),\n",
       " 107: (85, 56),\n",
       " 108: (44, 5),\n",
       " 109: (115, 110),\n",
       " 110: (125, 102),\n",
       " 111: (98, 57),\n",
       " 112: (111, 103),\n",
       " 113: (131, 117),\n",
       " 114: (110, 77),\n",
       " 115: (15, 14),\n",
       " 116: (54, 51),\n",
       " 117: (67, 64),\n",
       " 118: (79, 69),\n",
       " 119: (64, 53),\n",
       " 120: (70, 63),\n",
       " 121: (72, 63),\n",
       " 122: (119, 72),\n",
       " 123: (14, 10),\n",
       " 124: (22, 6),\n",
       " 125: (60, 57),\n",
       " 126: (107, 102),\n",
       " 127: (114, 101),\n",
       " 128: (103, 100),\n",
       " 129: (59, 53),\n",
       " 130: (51, 50),\n",
       " 131: (135, 130),\n",
       " 132: (134, 103),\n",
       " 133: (100, 83),\n",
       " 134: (118, 105),\n",
       " 135: (5, 4),\n",
       " 136: (62, 53),\n",
       " 137: (68, 62),\n",
       " 138: (108, 103),\n",
       " 139: (55, 51),\n",
       " 140: (41, 8),\n",
       " 141: (106, 84),\n",
       " 142: (109, 102),\n",
       " 143: (117, 105),\n",
       " 144: (57, 53),\n",
       " 145: (105, 102),\n",
       " 146: (102, 100)}"
      ]
     },
     "execution_count": 12,
     "metadata": {},
     "output_type": "execute_result"
    }
   ],
   "source": [
    "d #this will show which data points combines when"
   ]
  },
  {
   "cell_type": "code",
   "execution_count": 13,
   "metadata": {
    "collapsed": true
   },
   "outputs": [],
   "source": [
    "#as we can see, 34 and 9 combines first and so on. If 9 is combining again with 37, it means cluster 0 is combining with 1 and so on."
   ]
  },
  {
   "cell_type": "code",
   "execution_count": 14,
   "metadata": {},
   "outputs": [
    {
     "data": {
      "text/plain": [
       "array([ 140.,  140.,  140.,  140.,  140.,  140.,  140.,  140.,  140.,\n",
       "        140.,  140.,  140.,  140.,  140.,  140.,  140.,  140.,  140.,\n",
       "        140.,  140.,  140.,  140.,  140.,  140.,  140.,  140.,  140.,\n",
       "        140.,  140.,  140.,  140.,  140.,  140.,  140.,  140.,  140.,\n",
       "        140.,  140.,  140.,  140.,  140.,  140.,  140.,  140.,  140.,\n",
       "        140.,  140.,  140.,  140.,  140.,  146.,  146.,  146.,  144.,\n",
       "        146.,  146.,  146.,  144.,  146.,  144.,  144.,  146.,  144.,\n",
       "        146.,  144.,  146.,  146.,  144.,  144.,  144.,  146.,  146.,\n",
       "        146.,  146.,  146.,  146.,  146.,  146.,  146.,  144.,  144.,\n",
       "        144.,  144.,  146.,  146.,  146.,  146.,  144.,  146.,  144.,\n",
       "        144.,  146.,  144.,  144.,  144.,  146.,  146.,  146.,  144.,\n",
       "        146.,  146.,  146.,  146.,  146.,  146.,  146.,  146.,  146.,\n",
       "        146.,  146.,  146.,  146.,  146.,  146.,  146.,  146.,  146.,\n",
       "        146.,  146.,  146.,  146.,  146.,  146.,  146.,  146.,  146.,\n",
       "        146.,  146.,  146.,  146.,  146.,  146.,  146.,  146.,  146.,\n",
       "        146.,  146.,  146.,  146.,  146.,  146.,  146.,  146.,  146.,\n",
       "        146.,  146.,  146.,  146.,  146.,  146.])"
      ]
     },
     "execution_count": 14,
     "metadata": {},
     "output_type": "execute_result"
    }
   ],
   "source": [
    "target"
   ]
  },
  {
   "cell_type": "code",
   "execution_count": 15,
   "metadata": {
    "collapsed": true
   },
   "outputs": [],
   "source": [
    "#Let's convert it to iris.target format\n",
    "target[target == 140] = 0\n",
    "target[target == 144] = 1\n",
    "target[target == 146] = 2"
   ]
  },
  {
   "cell_type": "code",
   "execution_count": 16,
   "metadata": {},
   "outputs": [
    {
     "data": {
      "text/plain": [
       "array([ 0.,  0.,  0.,  0.,  0.,  0.,  0.,  0.,  0.,  0.,  0.,  0.,  0.,\n",
       "        0.,  0.,  0.,  0.,  0.,  0.,  0.,  0.,  0.,  0.,  0.,  0.,  0.,\n",
       "        0.,  0.,  0.,  0.,  0.,  0.,  0.,  0.,  0.,  0.,  0.,  0.,  0.,\n",
       "        0.,  0.,  0.,  0.,  0.,  0.,  0.,  0.,  0.,  0.,  0.,  2.,  2.,\n",
       "        2.,  1.,  2.,  2.,  2.,  1.,  2.,  1.,  1.,  2.,  1.,  2.,  1.,\n",
       "        2.,  2.,  1.,  1.,  1.,  2.,  2.,  2.,  2.,  2.,  2.,  2.,  2.,\n",
       "        2.,  1.,  1.,  1.,  1.,  2.,  2.,  2.,  2.,  1.,  2.,  1.,  1.,\n",
       "        2.,  1.,  1.,  1.,  2.,  2.,  2.,  1.,  2.,  2.,  2.,  2.,  2.,\n",
       "        2.,  2.,  2.,  2.,  2.,  2.,  2.,  2.,  2.,  2.,  2.,  2.,  2.,\n",
       "        2.,  2.,  2.,  2.,  2.,  2.,  2.,  2.,  2.,  2.,  2.,  2.,  2.,\n",
       "        2.,  2.,  2.,  2.,  2.,  2.,  2.,  2.,  2.,  2.,  2.,  2.,  2.,\n",
       "        2.,  2.,  2.,  2.,  2.,  2.,  2.])"
      ]
     },
     "execution_count": 16,
     "metadata": {},
     "output_type": "execute_result"
    }
   ],
   "source": [
    "target"
   ]
  },
  {
   "cell_type": "code",
   "execution_count": 17,
   "metadata": {},
   "outputs": [
    {
     "data": {
      "text/plain": [
       "array([0, 0, 0, 0, 0, 0, 0, 0, 0, 0, 0, 0, 0, 0, 0, 0, 0, 0, 0, 0, 0, 0, 0,\n",
       "       0, 0, 0, 0, 0, 0, 0, 0, 0, 0, 0, 0, 0, 0, 0, 0, 0, 0, 0, 0, 0, 0, 0,\n",
       "       0, 0, 0, 0, 1, 1, 1, 1, 1, 1, 1, 1, 1, 1, 1, 1, 1, 1, 1, 1, 1, 1, 1,\n",
       "       1, 1, 1, 1, 1, 1, 1, 1, 1, 1, 1, 1, 1, 1, 1, 1, 1, 1, 1, 1, 1, 1, 1,\n",
       "       1, 1, 1, 1, 1, 1, 1, 1, 2, 2, 2, 2, 2, 2, 2, 2, 2, 2, 2, 2, 2, 2, 2,\n",
       "       2, 2, 2, 2, 2, 2, 2, 2, 2, 2, 2, 2, 2, 2, 2, 2, 2, 2, 2, 2, 2, 2, 2,\n",
       "       2, 2, 2, 2, 2, 2, 2, 2, 2, 2, 2, 2])"
      ]
     },
     "execution_count": 17,
     "metadata": {},
     "output_type": "execute_result"
    }
   ],
   "source": [
    "iris.target"
   ]
  },
  {
   "cell_type": "markdown",
   "metadata": {},
   "source": [
    "## Let's visualize the data"
   ]
  },
  {
   "cell_type": "code",
   "execution_count": 19,
   "metadata": {},
   "outputs": [
    {
     "data": {
      "text/plain": [
       "<matplotlib.collections.PathCollection at 0x29fce012978>"
      ]
     },
     "execution_count": 19,
     "metadata": {},
     "output_type": "execute_result"
    },
    {
     "data": {
      "image/png": "[encoded data removed]",
      "text/plain": [
       "<matplotlib.figure.Figure at 0x29fcdf98240>"
      ]
     },
     "metadata": {},
     "output_type": "display_data"
    }
   ],
   "source": [
    "plt.scatter(iris_data[:,1], iris_data[:,2], c=target, cmap=\"rainbow\")"
   ]
  },
  {
   "cell_type": "code",
   "execution_count": 20,
   "metadata": {},
   "outputs": [
    {
     "data": {
      "text/plain": [
       "<matplotlib.collections.PathCollection at 0x29fce099ef0>"
      ]
     },
     "execution_count": 20,
     "metadata": {},
     "output_type": "execute_result"
    },
    {
     "data": {
      "image/png": "[encoded data removed]",
      "text/plain": [
       "<matplotlib.figure.Figure at 0x29fce046160>"
      ]
     },
     "metadata": {},
     "output_type": "display_data"
    }
   ],
   "source": [
    "plt.scatter(iris_data[:,2], iris_data[:,3], c=target, cmap=\"rainbow\")"
   ]
  },
  {
   "cell_type": "code",
   "execution_count": 21,
   "metadata": {},
   "outputs": [
    {
     "data": {
      "text/plain": [
       "<matplotlib.collections.PathCollection at 0x29fce137400>"
      ]
     },
     "execution_count": 21,
     "metadata": {},
     "output_type": "execute_result"
    },
    {
     "data": {
      "image/png": "[encoded data removed]",
      "text/plain": [
       "<matplotlib.figure.Figure at 0x29fce0c54a8>"
      ]
     },
     "metadata": {},
     "output_type": "display_data"
    }
   ],
   "source": [
    "plt.scatter(iris_data[:,1], iris_data[:,3], c=target, cmap=\"rainbow\")"
   ]
  },
  {
   "cell_type": "code",
   "execution_count": 22,
   "metadata": {
    "collapsed": true
   },
   "outputs": [],
   "source": [
    "#Notice the performance of Hierarchical is not that great compared to KMeans. It worked great on convoluted data sets"
   ]
  },
  {
   "cell_type": "code",
   "execution_count": 23,
   "metadata": {
    "collapsed": true
   },
   "outputs": [],
   "source": [
    "#Also, we don't need to specify number of cluster in this."
   ]
  },
  {
   "cell_type": "markdown",
   "metadata": {},
   "source": [
    "## Let's use complete linkage and average linkage and check the performance"
   ]
  },
  {
   "cell_type": "code",
   "execution_count": 24,
   "metadata": {
    "collapsed": true
   },
   "outputs": [],
   "source": [
    "d_complete, target_complete = OwnHeirarchical(iris_data, 147, 2) #2 for complete linkage"
   ]
  },
  {
   "cell_type": "code",
   "execution_count": 25,
   "metadata": {},
   "outputs": [
    {
     "data": {
      "text/plain": [
       "{0: (34, 9),\n",
       " 1: (37, 9),\n",
       " 2: (39, 7),\n",
       " 3: (132, 128),\n",
       " 4: (17, 0),\n",
       " 5: (48, 10),\n",
       " 6: (28, 27),\n",
       " 7: (4, 0),\n",
       " 8: (40, 17),\n",
       " 9: (49, 7),\n",
       " 10: (81, 80),\n",
       " 11: (91, 63),\n",
       " 12: (92, 82),\n",
       " 13: (96, 95),\n",
       " 14: (12, 1),\n",
       " 15: (21, 19),\n",
       " 16: (27, 0),\n",
       " 17: (38, 8),\n",
       " 18: (46, 19),\n",
       " 19: (47, 2),\n",
       " 20: (30, 29),\n",
       " 21: (45, 1),\n",
       " 22: (93, 57),\n",
       " 23: (99, 96),\n",
       " 24: (137, 116),\n",
       " 25: (75, 65),\n",
       " 26: (138, 127),\n",
       " 27: (9, 1),\n",
       " 28: (95, 88),\n",
       " 29: (126, 123),\n",
       " 30: (139, 112),\n",
       " 31: (26, 23),\n",
       " 32: (42, 38),\n",
       " 33: (89, 53),\n",
       " 34: (25, 9),\n",
       " 35: (84, 66),\n",
       " 36: (97, 74),\n",
       " 37: (143, 120),\n",
       " 38: (11, 7),\n",
       " 39: (43, 26),\n",
       " 40: (147, 110),\n",
       " 41: (29, 3),\n",
       " 42: (73, 63),\n",
       " 43: (58, 54),\n",
       " 44: (116, 103),\n",
       " 45: (145, 141),\n",
       " 46: (146, 123),\n",
       " 47: (78, 63),\n",
       " 48: (148, 136),\n",
       " 49: (144, 140),\n",
       " 50: (6, 2),\n",
       " 51: (87, 68),\n",
       " 52: (94, 90),\n",
       " 53: (122, 105),\n",
       " 54: (130, 107),\n",
       " 55: (80, 69),\n",
       " 56: (52, 50),\n",
       " 57: (56, 51),\n",
       " 58: (113, 101),\n",
       " 59: (142, 113),\n",
       " 60: (31, 20),\n",
       " 61: (82, 67),\n",
       " 62: (86, 52),\n",
       " 63: (127, 126),\n",
       " 64: (149, 127),\n",
       " 65: (36, 10),\n",
       " 66: (124, 120),\n",
       " 67: (140, 120),\n",
       " 68: (19, 4),\n",
       " 69: (24, 11),\n",
       " 70: (35, 1),\n",
       " 71: (8, 3),\n",
       " 72: (128, 104),\n",
       " 73: (121, 101),\n",
       " 74: (65, 58),\n",
       " 75: (76, 58),\n",
       " 76: (77, 52),\n",
       " 77: (18, 5),\n",
       " 78: (133, 83),\n",
       " 79: (90, 55),\n",
       " 80: (16, 10),\n",
       " 81: (33, 32),\n",
       " 82: (7, 4),\n",
       " 83: (13, 8),\n",
       " 84: (129, 125),\n",
       " 85: (20, 10),\n",
       " 86: (141, 139),\n",
       " 87: (85, 56),\n",
       " 88: (88, 61),\n",
       " 89: (44, 5),\n",
       " 90: (115, 110),\n",
       " 91: (23, 7),\n",
       " 92: (98, 57),\n",
       " 93: (111, 103),\n",
       " 94: (136, 115),\n",
       " 95: (71, 61),\n",
       " 96: (131, 117),\n",
       " 97: (66, 55),\n",
       " 98: (54, 51),\n",
       " 99: (83, 72),\n",
       " 100: (79, 69),\n",
       " 101: (3, 2),\n",
       " 102: (74, 71),\n",
       " 103: (119, 72),\n",
       " 104: (123, 72),\n",
       " 105: (22, 6),\n",
       " 106: (32, 16),\n",
       " 107: (60, 57),\n",
       " 108: (70, 56),\n",
       " 109: (63, 55),\n",
       " 110: (120, 104),\n",
       " 111: (114, 101),\n",
       " 112: (2, 1),\n",
       " 113: (59, 53),\n",
       " 114: (125, 102),\n",
       " 115: (135, 130),\n",
       " 116: (134, 103),\n",
       " 117: (107, 102),\n",
       " 118: (112, 110),\n",
       " 119: (10, 0),\n",
       " 120: (15, 14),\n",
       " 121: (64, 59),\n",
       " 122: (118, 105),\n",
       " 123: (67, 62),\n",
       " 124: (62, 53),\n",
       " 125: (69, 64),\n",
       " 126: (108, 103),\n",
       " 127: (41, 8),\n",
       " 128: (61, 55),\n",
       " 129: (14, 5),\n",
       " 130: (68, 54),\n",
       " 131: (110, 103),\n",
       " 132: (106, 84),\n",
       " 133: (51, 50),\n",
       " 134: (109, 102),\n",
       " 135: (104, 100),\n",
       " 136: (72, 63),\n",
       " 137: (101, 70),\n",
       " 138: (117, 105),\n",
       " 139: (1, 0),\n",
       " 140: (103, 77),\n",
       " 141: (5, 4),\n",
       " 142: (55, 53),\n",
       " 143: (57, 53),\n",
       " 144: (105, 102),\n",
       " 145: (100, 77),\n",
       " 146: (102, 100)}"
      ]
     },
     "execution_count": 25,
     "metadata": {},
     "output_type": "execute_result"
    }
   ],
   "source": [
    "d_complete"
   ]
  },
  {
   "cell_type": "code",
   "execution_count": 26,
   "metadata": {},
   "outputs": [
    {
     "data": {
      "text/plain": [
       "array([ 141.,  141.,  141.,  141.,  141.,  141.,  141.,  141.,  141.,\n",
       "        141.,  141.,  141.,  141.,  141.,  141.,  141.,  141.,  141.,\n",
       "        141.,  141.,  141.,  141.,  141.,  141.,  141.,  141.,  141.,\n",
       "        141.,  141.,  141.,  141.,  141.,  141.,  141.,  141.,  141.,\n",
       "        141.,  141.,  141.,  141.,  141.,  141.,  141.,  141.,  141.,\n",
       "        141.,  141.,  141.,  141.,  141.,  146.,  146.,  146.,  143.,\n",
       "        146.,  143.,  146.,  143.,  146.,  143.,  143.,  143.,  143.,\n",
       "        143.,  143.,  146.,  143.,  143.,  146.,  143.,  146.,  143.,\n",
       "        143.,  143.,  143.,  146.,  146.,  146.,  143.,  143.,  143.,\n",
       "        143.,  143.,  143.,  143.,  146.,  146.,  146.,  143.,  143.,\n",
       "        143.,  143.,  143.,  143.,  143.,  143.,  143.,  143.,  143.,\n",
       "        143.,  146.,  146.,  146.,  146.,  146.,  146.,  143.,  146.,\n",
       "        146.,  146.,  146.,  146.,  146.,  146.,  146.,  146.,  146.,\n",
       "        146.,  146.,  143.,  146.,  146.,  146.,  143.,  146.,  146.,\n",
       "        143.,  143.,  146.,  146.,  146.,  146.,  146.,  143.,  146.,\n",
       "        146.,  146.,  146.,  143.,  146.,  146.,  146.,  146.,  146.,\n",
       "        146.,  146.,  143.,  146.,  146.,  143.])"
      ]
     },
     "execution_count": 26,
     "metadata": {},
     "output_type": "execute_result"
    }
   ],
   "source": [
    "target_complete"
   ]
  },
  {
   "cell_type": "code",
   "execution_count": 31,
   "metadata": {},
   "outputs": [
    {
     "data": {
      "text/plain": [
       "<matplotlib.collections.PathCollection at 0x29fce42dcf8>"
      ]
     },
     "execution_count": 31,
     "metadata": {},
     "output_type": "execute_result"
    },
    {
     "data": {
      "image/png": "[encoded data removed]",
      "text/plain": [
       "<matplotlib.figure.Figure at 0x29fce3b5470>"
      ]
     },
     "metadata": {},
     "output_type": "display_data"
    }
   ],
   "source": [
    "plt.scatter(iris_data[:,1], iris_data[:,3], c=target_complete, cmap=\"rainbow\")"
   ]
  },
  {
   "cell_type": "code",
   "execution_count": 34,
   "metadata": {},
   "outputs": [
    {
     "data": {
      "text/plain": [
       "<matplotlib.collections.PathCollection at 0x29fce5f2438>"
      ]
     },
     "execution_count": 34,
     "metadata": {},
     "output_type": "execute_result"
    },
    {
     "data": {
      "image/png": "[encoded data removed]",
      "text/plain": [
       "<matplotlib.figure.Figure at 0x29fce58c668>"
      ]
     },
     "metadata": {},
     "output_type": "display_data"
    }
   ],
   "source": [
    "plt.scatter(iris_data[:,1], iris_data[:,3], c=target_complete, cmap=\"rainbow\")"
   ]
  },
  {
   "cell_type": "code",
   "execution_count": 35,
   "metadata": {
    "collapsed": true
   },
   "outputs": [],
   "source": [
    "#This is because we are plotting it in 2-dimension but the data is in 4-dimensions."
   ]
  },
  {
   "cell_type": "code",
   "execution_count": 36,
   "metadata": {
    "collapsed": true
   },
   "outputs": [],
   "source": [
    "#Let's use average linkage now"
   ]
  },
  {
   "cell_type": "code",
   "execution_count": 37,
   "metadata": {
    "collapsed": true
   },
   "outputs": [],
   "source": [
    "d_average, target_average = OwnHeirarchical(iris_data, 147, 3) #3 is for average linkage"
   ]
  },
  {
   "cell_type": "code",
   "execution_count": 38,
   "metadata": {},
   "outputs": [
    {
     "data": {
      "text/plain": [
       "{0: (34, 9),\n",
       " 1: (37, 9),\n",
       " 2: (39, 7),\n",
       " 3: (132, 128),\n",
       " 4: (17, 0),\n",
       " 5: (48, 10),\n",
       " 6: (28, 27),\n",
       " 7: (4, 0),\n",
       " 8: (40, 17),\n",
       " 9: (49, 7),\n",
       " 10: (81, 80),\n",
       " 11: (91, 63),\n",
       " 12: (92, 82),\n",
       " 13: (96, 95),\n",
       " 14: (27, 0),\n",
       " 15: (12, 1),\n",
       " 16: (21, 19),\n",
       " 17: (38, 8),\n",
       " 18: (46, 19),\n",
       " 19: (47, 2),\n",
       " 20: (30, 29),\n",
       " 21: (45, 1),\n",
       " 22: (93, 57),\n",
       " 23: (99, 96),\n",
       " 24: (137, 116),\n",
       " 25: (75, 65),\n",
       " 26: (138, 127),\n",
       " 27: (9, 1),\n",
       " 28: (95, 88),\n",
       " 29: (126, 123),\n",
       " 30: (139, 112),\n",
       " 31: (7, 0),\n",
       " 32: (29, 3),\n",
       " 33: (26, 23),\n",
       " 34: (42, 38),\n",
       " 35: (89, 53),\n",
       " 36: (25, 9),\n",
       " 37: (84, 66),\n",
       " 38: (97, 74),\n",
       " 39: (80, 69),\n",
       " 40: (143, 120),\n",
       " 41: (11, 7),\n",
       " 42: (43, 26),\n",
       " 43: (147, 110),\n",
       " 44: (73, 63),\n",
       " 45: (58, 54),\n",
       " 46: (116, 103),\n",
       " 47: (145, 141),\n",
       " 48: (146, 123),\n",
       " 49: (78, 63),\n",
       " 50: (148, 136),\n",
       " 51: (144, 140),\n",
       " 52: (127, 70),\n",
       " 53: (82, 67),\n",
       " 54: (6, 2),\n",
       " 55: (87, 68),\n",
       " 56: (94, 90),\n",
       " 57: (122, 105),\n",
       " 58: (130, 107),\n",
       " 59: (52, 50),\n",
       " 60: (56, 51),\n",
       " 61: (113, 101),\n",
       " 62: (142, 113),\n",
       " 63: (3, 2),\n",
       " 64: (65, 58),\n",
       " 65: (19, 4),\n",
       " 66: (140, 120),\n",
       " 67: (31, 20),\n",
       " 68: (86, 52),\n",
       " 69: (149, 127),\n",
       " 70: (36, 10),\n",
       " 71: (124, 120),\n",
       " 72: (24, 11),\n",
       " 73: (35, 1),\n",
       " 74: (8, 3),\n",
       " 75: (23, 7),\n",
       " 76: (128, 104),\n",
       " 77: (121, 101),\n",
       " 78: (76, 58),\n",
       " 79: (77, 52),\n",
       " 80: (90, 55),\n",
       " 81: (18, 5),\n",
       " 82: (133, 83),\n",
       " 83: (69, 53),\n",
       " 84: (136, 115),\n",
       " 85: (16, 10),\n",
       " 86: (33, 32),\n",
       " 87: (13, 8),\n",
       " 88: (129, 125),\n",
       " 89: (88, 61),\n",
       " 90: (66, 55),\n",
       " 91: (20, 10),\n",
       " 92: (141, 139),\n",
       " 93: (2, 1),\n",
       " 94: (85, 56),\n",
       " 95: (44, 5),\n",
       " 96: (74, 71),\n",
       " 97: (98, 57),\n",
       " 98: (111, 103),\n",
       " 99: (83, 72),\n",
       " 100: (120, 112),\n",
       " 101: (123, 72),\n",
       " 102: (131, 117),\n",
       " 103: (110, 77),\n",
       " 104: (63, 55),\n",
       " 105: (32, 16),\n",
       " 106: (54, 51),\n",
       " 107: (61, 55),\n",
       " 108: (79, 69),\n",
       " 109: (119, 72),\n",
       " 110: (71, 61),\n",
       " 111: (10, 0),\n",
       " 112: (104, 103),\n",
       " 113: (125, 102),\n",
       " 114: (112, 104),\n",
       " 115: (22, 6),\n",
       " 116: (60, 57),\n",
       " 117: (70, 56),\n",
       " 118: (115, 110),\n",
       " 119: (107, 102),\n",
       " 120: (1, 0),\n",
       " 121: (114, 101),\n",
       " 122: (59, 53),\n",
       " 123: (67, 53),\n",
       " 124: (135, 130),\n",
       " 125: (134, 103),\n",
       " 126: (15, 14),\n",
       " 127: (64, 59),\n",
       " 128: (118, 105),\n",
       " 129: (62, 53),\n",
       " 130: (108, 103),\n",
       " 131: (72, 68),\n",
       " 132: (41, 8),\n",
       " 133: (51, 50),\n",
       " 134: (5, 4),\n",
       " 135: (14, 5),\n",
       " 136: (101, 83),\n",
       " 137: (68, 54),\n",
       " 138: (106, 84),\n",
       " 139: (55, 51),\n",
       " 140: (109, 102),\n",
       " 141: (117, 105),\n",
       " 142: (103, 83),\n",
       " 143: (57, 53),\n",
       " 144: (102, 100),\n",
       " 145: (105, 102),\n",
       " 146: (100, 77)}"
      ]
     },
     "execution_count": 38,
     "metadata": {},
     "output_type": "execute_result"
    }
   ],
   "source": [
    "d_average"
   ]
  },
  {
   "cell_type": "code",
   "execution_count": 39,
   "metadata": {},
   "outputs": [
    {
     "data": {
      "text/plain": [
       "array([ 135.,  135.,  135.,  135.,  135.,  135.,  135.,  135.,  135.,\n",
       "        135.,  135.,  135.,  135.,  135.,  135.,  135.,  135.,  135.,\n",
       "        135.,  135.,  135.,  135.,  135.,  135.,  135.,  135.,  135.,\n",
       "        135.,  135.,  135.,  135.,  135.,  135.,  135.,  135.,  135.,\n",
       "        135.,  135.,  135.,  135.,  135.,  135.,  135.,  135.,  135.,\n",
       "        135.,  135.,  135.,  135.,  135.,  146.,  146.,  146.,  143.,\n",
       "        146.,  146.,  146.,  143.,  146.,  143.,  143.,  146.,  143.,\n",
       "        146.,  143.,  146.,  146.,  143.,  146.,  143.,  146.,  146.,\n",
       "        146.,  146.,  146.,  146.,  146.,  146.,  146.,  143.,  143.,\n",
       "        143.,  143.,  146.,  146.,  146.,  146.,  146.,  146.,  143.,\n",
       "        146.,  146.,  143.,  143.,  146.,  146.,  146.,  146.,  143.,\n",
       "        146.,  146.,  146.,  146.,  146.,  146.,  146.,  146.,  146.,\n",
       "        146.,  146.,  146.,  146.,  146.,  146.,  146.,  146.,  146.,\n",
       "        146.,  146.,  146.,  146.,  146.,  146.,  146.,  146.,  146.,\n",
       "        146.,  146.,  146.,  146.,  146.,  146.,  146.,  146.,  146.,\n",
       "        146.,  146.,  146.,  146.,  146.,  146.,  146.,  146.,  146.,\n",
       "        146.,  146.,  146.,  146.,  146.,  146.])"
      ]
     },
     "execution_count": 39,
     "metadata": {},
     "output_type": "execute_result"
    }
   ],
   "source": [
    "target_average"
   ]
  },
  {
   "cell_type": "code",
   "execution_count": 40,
   "metadata": {
    "collapsed": true
   },
   "outputs": [],
   "source": [
    "target_average[target_average == 135] = 0\n",
    "target_average[target_average == 143] = 1\n",
    "target_average[target_average == 146] = 2"
   ]
  },
  {
   "cell_type": "code",
   "execution_count": 41,
   "metadata": {},
   "outputs": [
    {
     "data": {
      "text/plain": [
       "array([ 0.,  0.,  0.,  0.,  0.,  0.,  0.,  0.,  0.,  0.,  0.,  0.,  0.,\n",
       "        0.,  0.,  0.,  0.,  0.,  0.,  0.,  0.,  0.,  0.,  0.,  0.,  0.,\n",
       "        0.,  0.,  0.,  0.,  0.,  0.,  0.,  0.,  0.,  0.,  0.,  0.,  0.,\n",
       "        0.,  0.,  0.,  0.,  0.,  0.,  0.,  0.,  0.,  0.,  0.,  2.,  2.,\n",
       "        2.,  1.,  2.,  2.,  2.,  1.,  2.,  1.,  1.,  2.,  1.,  2.,  1.,\n",
       "        2.,  2.,  1.,  2.,  1.,  2.,  2.,  2.,  2.,  2.,  2.,  2.,  2.,\n",
       "        2.,  1.,  1.,  1.,  1.,  2.,  2.,  2.,  2.,  2.,  2.,  1.,  2.,\n",
       "        2.,  1.,  1.,  2.,  2.,  2.,  2.,  1.,  2.,  2.,  2.,  2.,  2.,\n",
       "        2.,  2.,  2.,  2.,  2.,  2.,  2.,  2.,  2.,  2.,  2.,  2.,  2.,\n",
       "        2.,  2.,  2.,  2.,  2.,  2.,  2.,  2.,  2.,  2.,  2.,  2.,  2.,\n",
       "        2.,  2.,  2.,  2.,  2.,  2.,  2.,  2.,  2.,  2.,  2.,  2.,  2.,\n",
       "        2.,  2.,  2.,  2.,  2.,  2.,  2.])"
      ]
     },
     "execution_count": 41,
     "metadata": {},
     "output_type": "execute_result"
    }
   ],
   "source": [
    "target_average"
   ]
  },
  {
   "cell_type": "code",
   "execution_count": 43,
   "metadata": {},
   "outputs": [
    {
     "data": {
      "text/plain": [
       "<matplotlib.collections.PathCollection at 0x29fce72c400>"
      ]
     },
     "execution_count": 43,
     "metadata": {},
     "output_type": "execute_result"
    },
    {
     "data": {
      "image/png": "[encoded data removed]",
      "text/plain": [
       "<matplotlib.figure.Figure at 0x29fce63de10>"
      ]
     },
     "metadata": {},
     "output_type": "display_data"
    }
   ],
   "source": [
    "plt.scatter(iris_data[:,1], iris_data[:,2], c=target_average, cmap=\"rainbow\")"
   ]
  },
  {
   "cell_type": "code",
   "execution_count": 44,
   "metadata": {},
   "outputs": [
    {
     "data": {
      "text/plain": [
       "<matplotlib.collections.PathCollection at 0x29fce7b7a90>"
      ]
     },
     "execution_count": 44,
     "metadata": {},
     "output_type": "execute_result"
    },
    {
     "data": {
      "image/png": "[encoded data removed]",
      "text/plain": [
       "<matplotlib.figure.Figure at 0x29fce75b080>"
      ]
     },
     "metadata": {},
     "output_type": "display_data"
    }
   ],
   "source": [
    "plt.scatter(iris_data[:,2], iris_data[:,3], c=target_average, cmap=\"rainbow\")"
   ]
  },
  {
   "cell_type": "code",
   "execution_count": 45,
   "metadata": {},
   "outputs": [
    {
     "data": {
      "text/plain": [
       "<matplotlib.collections.PathCollection at 0x29fce84d8d0>"
      ]
     },
     "execution_count": 45,
     "metadata": {},
     "output_type": "execute_result"
    },
    {
     "data": {
      "image/png": "[encoded data removed]",
      "text/plain": [
       "<matplotlib.figure.Figure at 0x29fce7e13c8>"
      ]
     },
     "metadata": {},
     "output_type": "display_data"
    }
   ],
   "source": [
    "plt.scatter(iris_data[:,1], iris_data[:,3], c=target_average, cmap=\"rainbow\")"
   ]
  },
  {
   "cell_type": "code",
   "execution_count": 47,
   "metadata": {},
   "outputs": [
    {
     "data": {
      "text/plain": [
       "77.333333333333343"
      ]
     },
     "execution_count": 47,
     "metadata": {},
     "output_type": "execute_result"
    }
   ],
   "source": [
    "100 - (iris.target != target_average).sum()/float(iris.target.size)*100"
   ]
  },
  {
   "cell_type": "code",
   "execution_count": 48,
   "metadata": {
    "collapsed": true
   },
   "outputs": [],
   "source": [
    "#So, 77% accuracy. This is lot less than using KMeans on this. Refer my KMeans repo for my KMeans code and example."
   ]
  },
  {
   "cell_type": "code",
   "execution_count": 49,
   "metadata": {},
   "outputs": [
    {
     "data": {
      "text/plain": [
       "80.0"
      ]
     },
     "execution_count": 49,
     "metadata": {},
     "output_type": "execute_result"
    }
   ],
   "source": [
    "100 - (iris.target != target).sum()/float(iris.target.size)*100"
   ]
  },
  {
   "cell_type": "code",
   "execution_count": 50,
   "metadata": {
    "collapsed": true
   },
   "outputs": [],
   "source": [
    "#Single linkage gave us 80% accuracy compared to average linkage"
   ]
  },
  {
   "cell_type": "code",
   "execution_count": 51,
   "metadata": {
    "collapsed": true
   },
   "outputs": [],
   "source": [
    "target_complete[target_complete == 141] = 0\n",
    "target_complete[target_complete == 143] = 1\n",
    "target_complete[target_complete == 146] = 2"
   ]
  },
  {
   "cell_type": "code",
   "execution_count": 52,
   "metadata": {},
   "outputs": [
    {
     "data": {
      "text/plain": [
       "84.0"
      ]
     },
     "execution_count": 52,
     "metadata": {},
     "output_type": "execute_result"
    }
   ],
   "source": [
    "100 - (iris.target != target_complete).sum()/float(iris.target.size)*100"
   ]
  },
  {
   "cell_type": "code",
   "execution_count": 53,
   "metadata": {
    "collapsed": true
   },
   "outputs": [],
   "source": [
    "#complete linkage gave us 84% accuracy. So, for our iris data set, accuracy was high using complete linkage but not as high as KMeans."
   ]
  },
  {
   "cell_type": "code",
   "execution_count": null,
   "metadata": {
    "collapsed": true
   },
   "outputs": [],
   "source": []
  }
 ],
 "metadata": {
  "kernelspec": {
   "display_name": "Python 3",
   "language": "python",
   "name": "python3"
  },
  "language_info": {
   "codemirror_mode": {
    "name": "ipython",
    "version": 3
   },
   "file_extension": ".py",
   "mimetype": "text/x-python",
   "name": "python",
   "nbconvert_exporter": "python",
   "pygments_lexer": "ipython3",
   "version": "3.6.1"
  }
 },
 "nbformat": 4,
 "nbformat_minor": 2
}
